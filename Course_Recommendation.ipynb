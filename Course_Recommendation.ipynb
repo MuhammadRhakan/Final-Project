{
  "nbformat": 4,
  "nbformat_minor": 0,
  "metadata": {
    "colab": {
      "provenance": [],
      "authorship_tag": "ABX9TyNKEAoWDal/vWQgfeIkOFbN",
      "include_colab_link": true
    },
    "kernelspec": {
      "name": "python3",
      "display_name": "Python 3"
    },
    "language_info": {
      "name": "python"
    }
  },
  "cells": [
    {
      "cell_type": "markdown",
      "metadata": {
        "id": "view-in-github",
        "colab_type": "text"
      },
      "source": [
        "<a href=\"https://colab.research.google.com/github/MuhammadRhakan/final-project/blob/main/Course_Recommendation.ipynb\" target=\"_parent\"><img src=\"https://colab.research.google.com/assets/colab-badge.svg\" alt=\"Open In Colab\"/></a>"
      ]
    },
    {
      "cell_type": "code",
      "source": [
        "!pip install kagglehub\n",
        "!pip install squarify\n",
        "!pip install kagglehub[pandas-datasets]"
      ],
      "metadata": {
        "colab": {
          "base_uri": "https://localhost:8080/"
        },
        "id": "SgStinTFwRNU",
        "outputId": "0835cba1-ab38-455b-8e89-3c8858f94bc3"
      },
      "execution_count": null,
      "outputs": [
        {
          "output_type": "stream",
          "name": "stdout",
          "text": [
            "Requirement already satisfied: kagglehub in /usr/local/lib/python3.11/dist-packages (0.3.11)\n",
            "Requirement already satisfied: packaging in /usr/local/lib/python3.11/dist-packages (from kagglehub) (24.2)\n",
            "Requirement already satisfied: pyyaml in /usr/local/lib/python3.11/dist-packages (from kagglehub) (6.0.2)\n",
            "Requirement already satisfied: requests in /usr/local/lib/python3.11/dist-packages (from kagglehub) (2.32.3)\n",
            "Requirement already satisfied: tqdm in /usr/local/lib/python3.11/dist-packages (from kagglehub) (4.67.1)\n",
            "Requirement already satisfied: charset-normalizer<4,>=2 in /usr/local/lib/python3.11/dist-packages (from requests->kagglehub) (3.4.1)\n",
            "Requirement already satisfied: idna<4,>=2.5 in /usr/local/lib/python3.11/dist-packages (from requests->kagglehub) (3.10)\n",
            "Requirement already satisfied: urllib3<3,>=1.21.1 in /usr/local/lib/python3.11/dist-packages (from requests->kagglehub) (2.3.0)\n",
            "Requirement already satisfied: certifi>=2017.4.17 in /usr/local/lib/python3.11/dist-packages (from requests->kagglehub) (2025.1.31)\n",
            "Collecting squarify\n",
            "  Downloading squarify-0.4.4-py3-none-any.whl.metadata (600 bytes)\n",
            "Downloading squarify-0.4.4-py3-none-any.whl (4.1 kB)\n",
            "Installing collected packages: squarify\n",
            "Successfully installed squarify-0.4.4\n",
            "Requirement already satisfied: kagglehub[pandas-datasets] in /usr/local/lib/python3.11/dist-packages (0.3.11)\n",
            "Requirement already satisfied: packaging in /usr/local/lib/python3.11/dist-packages (from kagglehub[pandas-datasets]) (24.2)\n",
            "Requirement already satisfied: pyyaml in /usr/local/lib/python3.11/dist-packages (from kagglehub[pandas-datasets]) (6.0.2)\n",
            "Requirement already satisfied: requests in /usr/local/lib/python3.11/dist-packages (from kagglehub[pandas-datasets]) (2.32.3)\n",
            "Requirement already satisfied: tqdm in /usr/local/lib/python3.11/dist-packages (from kagglehub[pandas-datasets]) (4.67.1)\n",
            "Requirement already satisfied: pandas in /usr/local/lib/python3.11/dist-packages (from kagglehub[pandas-datasets]) (2.2.2)\n",
            "Requirement already satisfied: numpy>=1.23.2 in /usr/local/lib/python3.11/dist-packages (from pandas->kagglehub[pandas-datasets]) (2.0.2)\n",
            "Requirement already satisfied: python-dateutil>=2.8.2 in /usr/local/lib/python3.11/dist-packages (from pandas->kagglehub[pandas-datasets]) (2.8.2)\n",
            "Requirement already satisfied: pytz>=2020.1 in /usr/local/lib/python3.11/dist-packages (from pandas->kagglehub[pandas-datasets]) (2025.2)\n",
            "Requirement already satisfied: tzdata>=2022.7 in /usr/local/lib/python3.11/dist-packages (from pandas->kagglehub[pandas-datasets]) (2025.2)\n",
            "Requirement already satisfied: charset-normalizer<4,>=2 in /usr/local/lib/python3.11/dist-packages (from requests->kagglehub[pandas-datasets]) (3.4.1)\n",
            "Requirement already satisfied: idna<4,>=2.5 in /usr/local/lib/python3.11/dist-packages (from requests->kagglehub[pandas-datasets]) (3.10)\n",
            "Requirement already satisfied: urllib3<3,>=1.21.1 in /usr/local/lib/python3.11/dist-packages (from requests->kagglehub[pandas-datasets]) (2.3.0)\n",
            "Requirement already satisfied: certifi>=2017.4.17 in /usr/local/lib/python3.11/dist-packages (from requests->kagglehub[pandas-datasets]) (2025.1.31)\n",
            "Requirement already satisfied: six>=1.5 in /usr/local/lib/python3.11/dist-packages (from python-dateutil>=2.8.2->pandas->kagglehub[pandas-datasets]) (1.17.0)\n"
          ]
        }
      ]
    },
    {
      "cell_type": "code",
      "execution_count": null,
      "metadata": {
        "id": "qqCucrVXv7C1"
      },
      "outputs": [],
      "source": [
        "import kagglehub\n",
        "import pandas as pd\n",
        "import numpy as np\n",
        "import matplotlib.pyplot as plt\n",
        "import seaborn as sns\n",
        "import squarify as sq\n",
        "import time\n",
        "\n",
        "from kagglehub import KaggleDatasetAdapter\n",
        "from sklearn.preprocessing import StandardScaler, MinMaxScaler"
      ]
    },
    {
      "cell_type": "code",
      "source": [
        "course = kagglehub.load_dataset(\n",
        "    KaggleDatasetAdapter.PANDAS,\n",
        "    \"hossaingh/udemy-courses\",  #dataset handle\n",
        "    \"Course_info.csv\" #dataset name\n",
        ")\n",
        "time.sleep(10) #delay 10 second to ensure all data is stored\n",
        "course.shape"
      ],
      "metadata": {
        "colab": {
          "base_uri": "https://localhost:8080/"
        },
        "id": "3X7zJ7ZhFHoK",
        "outputId": "56c68b61-e3c6-48ef-d355-a23b7e359d9e"
      },
      "execution_count": null,
      "outputs": [
        {
          "output_type": "stream",
          "name": "stderr",
          "text": [
            "<ipython-input-5-068efce8630b>:1: DeprecationWarning: load_dataset is deprecated and will be removed in future version.\n",
            "  course = kagglehub.load_dataset(\n"
          ]
        },
        {
          "output_type": "stream",
          "name": "stdout",
          "text": [
            "Downloading from https://www.kaggle.com/api/v1/datasets/download/hossaingh/udemy-courses?dataset_version_number=1&file_name=Course_info.csv...\n"
          ]
        },
        {
          "output_type": "stream",
          "name": "stderr",
          "text": [
            "100%|██████████| 29.0M/29.0M [00:00<00:00, 49.4MB/s]"
          ]
        },
        {
          "output_type": "stream",
          "name": "stdout",
          "text": [
            "Extracting zip of Course_info.csv...\n"
          ]
        },
        {
          "output_type": "stream",
          "name": "stderr",
          "text": [
            "\n"
          ]
        },
        {
          "output_type": "execute_result",
          "data": {
            "text/plain": [
              "(209734, 20)"
            ]
          },
          "metadata": {},
          "execution_count": 5
        }
      ]
    },
    {
      "cell_type": "code",
      "source": [
        "course.head()"
      ],
      "metadata": {
        "colab": {
          "base_uri": "https://localhost:8080/",
          "height": 539
        },
        "id": "T6xu8YvmxUul",
        "outputId": "2ab47469-76c8-4037-9039-dd8c4e356738"
      },
      "execution_count": null,
      "outputs": [
        {
          "output_type": "execute_result",
          "data": {
            "text/plain": [
              "       id                                              title  is_paid   price  \\\n",
              "0  4715.0             Online Vegan Vegetarian Cooking School     True   24.99   \n",
              "1  1769.0         The Lean Startup Talk at Stanford E-Corner    False    0.00   \n",
              "2  5664.0  How To Become a Vegan, Vegetarian, or Flexitarian     True   19.99   \n",
              "3  7723.0                               How to Train a Puppy     True  199.99   \n",
              "4  8157.0                      Web Design from the Ground Up     True  159.99   \n",
              "\n",
              "                                            headline  num_subscribers  \\\n",
              "0  Learn to cook delicious vegan recipes. Filmed ...           2231.0   \n",
              "1  Debunking Myths of Entrepreneurship A startup ...          26474.0   \n",
              "2  Get the tools you need for a lifestyle change ...           1713.0   \n",
              "3  Train your puppy the right way with Dr. Ian Du...           4988.0   \n",
              "4  Learn web design online: Everything you need t...           1266.0   \n",
              "\n",
              "   avg_rating  num_reviews  num_comments  num_lectures  content_length_min  \\\n",
              "0        3.75        134.0          42.0          37.0              1268.0   \n",
              "1        4.50        709.0         112.0           9.0                88.0   \n",
              "2        4.40         41.0          13.0          14.0                82.0   \n",
              "3        4.80        395.0          88.0          36.0              1511.0   \n",
              "4        4.75         38.0          12.0          38.0               569.0   \n",
              "\n",
              "         published_time last_update_date   category          subcategory  \\\n",
              "0  2010-08-05T22:06:13Z       2020-11-06  Lifestyle      Food & Beverage   \n",
              "1  2010-01-12T18:09:46Z              NaN   Business     Entrepreneurship   \n",
              "2  2010-10-13T18:07:17Z       2019-10-09  Lifestyle      Other Lifestyle   \n",
              "3  2011-06-20T20:08:38Z       2016-01-13  Lifestyle  Pet Care & Training   \n",
              "4  2011-06-23T18:31:20Z              NaN     Design           Web Design   \n",
              "\n",
              "           topic language                                         course_url  \\\n",
              "0  Vegan Cooking  English           /course/vegan-vegetarian-cooking-school/   \n",
              "1   Lean Startup  English  /course/the-lean-startup-debunking-myths-of-en...   \n",
              "2  Vegan Cooking  English  /course/see-my-personal-motivation-for-becomin...   \n",
              "3   Pet Training  English                /course/complete-dunbar-collection/   \n",
              "4     Web Design  English             /course/web-design-from-the-ground-up/   \n",
              "\n",
              "  instructor_name      instructor_url  \n",
              "0     Angela Poch   /user/angelapoch/  \n",
              "1       Eric Ries     /user/ericries/  \n",
              "2     Angela Poch   /user/angelapoch/  \n",
              "3      Ian Dunbar   /user/ian-dunbar/  \n",
              "4  E Learning Lab  /user/edwin-ang-2/  "
            ],
            "text/html": [
              "\n",
              "  <div id=\"df-32c4bbb3-d0da-427e-98df-a322ec253b14\" class=\"colab-df-container\">\n",
              "    <div>\n",
              "<style scoped>\n",
              "    .dataframe tbody tr th:only-of-type {\n",
              "        vertical-align: middle;\n",
              "    }\n",
              "\n",
              "    .dataframe tbody tr th {\n",
              "        vertical-align: top;\n",
              "    }\n",
              "\n",
              "    .dataframe thead th {\n",
              "        text-align: right;\n",
              "    }\n",
              "</style>\n",
              "<table border=\"1\" class=\"dataframe\">\n",
              "  <thead>\n",
              "    <tr style=\"text-align: right;\">\n",
              "      <th></th>\n",
              "      <th>id</th>\n",
              "      <th>title</th>\n",
              "      <th>is_paid</th>\n",
              "      <th>price</th>\n",
              "      <th>headline</th>\n",
              "      <th>num_subscribers</th>\n",
              "      <th>avg_rating</th>\n",
              "      <th>num_reviews</th>\n",
              "      <th>num_comments</th>\n",
              "      <th>num_lectures</th>\n",
              "      <th>content_length_min</th>\n",
              "      <th>published_time</th>\n",
              "      <th>last_update_date</th>\n",
              "      <th>category</th>\n",
              "      <th>subcategory</th>\n",
              "      <th>topic</th>\n",
              "      <th>language</th>\n",
              "      <th>course_url</th>\n",
              "      <th>instructor_name</th>\n",
              "      <th>instructor_url</th>\n",
              "    </tr>\n",
              "  </thead>\n",
              "  <tbody>\n",
              "    <tr>\n",
              "      <th>0</th>\n",
              "      <td>4715.0</td>\n",
              "      <td>Online Vegan Vegetarian Cooking School</td>\n",
              "      <td>True</td>\n",
              "      <td>24.99</td>\n",
              "      <td>Learn to cook delicious vegan recipes. Filmed ...</td>\n",
              "      <td>2231.0</td>\n",
              "      <td>3.75</td>\n",
              "      <td>134.0</td>\n",
              "      <td>42.0</td>\n",
              "      <td>37.0</td>\n",
              "      <td>1268.0</td>\n",
              "      <td>2010-08-05T22:06:13Z</td>\n",
              "      <td>2020-11-06</td>\n",
              "      <td>Lifestyle</td>\n",
              "      <td>Food &amp; Beverage</td>\n",
              "      <td>Vegan Cooking</td>\n",
              "      <td>English</td>\n",
              "      <td>/course/vegan-vegetarian-cooking-school/</td>\n",
              "      <td>Angela Poch</td>\n",
              "      <td>/user/angelapoch/</td>\n",
              "    </tr>\n",
              "    <tr>\n",
              "      <th>1</th>\n",
              "      <td>1769.0</td>\n",
              "      <td>The Lean Startup Talk at Stanford E-Corner</td>\n",
              "      <td>False</td>\n",
              "      <td>0.00</td>\n",
              "      <td>Debunking Myths of Entrepreneurship A startup ...</td>\n",
              "      <td>26474.0</td>\n",
              "      <td>4.50</td>\n",
              "      <td>709.0</td>\n",
              "      <td>112.0</td>\n",
              "      <td>9.0</td>\n",
              "      <td>88.0</td>\n",
              "      <td>2010-01-12T18:09:46Z</td>\n",
              "      <td>NaN</td>\n",
              "      <td>Business</td>\n",
              "      <td>Entrepreneurship</td>\n",
              "      <td>Lean Startup</td>\n",
              "      <td>English</td>\n",
              "      <td>/course/the-lean-startup-debunking-myths-of-en...</td>\n",
              "      <td>Eric Ries</td>\n",
              "      <td>/user/ericries/</td>\n",
              "    </tr>\n",
              "    <tr>\n",
              "      <th>2</th>\n",
              "      <td>5664.0</td>\n",
              "      <td>How To Become a Vegan, Vegetarian, or Flexitarian</td>\n",
              "      <td>True</td>\n",
              "      <td>19.99</td>\n",
              "      <td>Get the tools you need for a lifestyle change ...</td>\n",
              "      <td>1713.0</td>\n",
              "      <td>4.40</td>\n",
              "      <td>41.0</td>\n",
              "      <td>13.0</td>\n",
              "      <td>14.0</td>\n",
              "      <td>82.0</td>\n",
              "      <td>2010-10-13T18:07:17Z</td>\n",
              "      <td>2019-10-09</td>\n",
              "      <td>Lifestyle</td>\n",
              "      <td>Other Lifestyle</td>\n",
              "      <td>Vegan Cooking</td>\n",
              "      <td>English</td>\n",
              "      <td>/course/see-my-personal-motivation-for-becomin...</td>\n",
              "      <td>Angela Poch</td>\n",
              "      <td>/user/angelapoch/</td>\n",
              "    </tr>\n",
              "    <tr>\n",
              "      <th>3</th>\n",
              "      <td>7723.0</td>\n",
              "      <td>How to Train a Puppy</td>\n",
              "      <td>True</td>\n",
              "      <td>199.99</td>\n",
              "      <td>Train your puppy the right way with Dr. Ian Du...</td>\n",
              "      <td>4988.0</td>\n",
              "      <td>4.80</td>\n",
              "      <td>395.0</td>\n",
              "      <td>88.0</td>\n",
              "      <td>36.0</td>\n",
              "      <td>1511.0</td>\n",
              "      <td>2011-06-20T20:08:38Z</td>\n",
              "      <td>2016-01-13</td>\n",
              "      <td>Lifestyle</td>\n",
              "      <td>Pet Care &amp; Training</td>\n",
              "      <td>Pet Training</td>\n",
              "      <td>English</td>\n",
              "      <td>/course/complete-dunbar-collection/</td>\n",
              "      <td>Ian Dunbar</td>\n",
              "      <td>/user/ian-dunbar/</td>\n",
              "    </tr>\n",
              "    <tr>\n",
              "      <th>4</th>\n",
              "      <td>8157.0</td>\n",
              "      <td>Web Design from the Ground Up</td>\n",
              "      <td>True</td>\n",
              "      <td>159.99</td>\n",
              "      <td>Learn web design online: Everything you need t...</td>\n",
              "      <td>1266.0</td>\n",
              "      <td>4.75</td>\n",
              "      <td>38.0</td>\n",
              "      <td>12.0</td>\n",
              "      <td>38.0</td>\n",
              "      <td>569.0</td>\n",
              "      <td>2011-06-23T18:31:20Z</td>\n",
              "      <td>NaN</td>\n",
              "      <td>Design</td>\n",
              "      <td>Web Design</td>\n",
              "      <td>Web Design</td>\n",
              "      <td>English</td>\n",
              "      <td>/course/web-design-from-the-ground-up/</td>\n",
              "      <td>E Learning Lab</td>\n",
              "      <td>/user/edwin-ang-2/</td>\n",
              "    </tr>\n",
              "  </tbody>\n",
              "</table>\n",
              "</div>\n",
              "    <div class=\"colab-df-buttons\">\n",
              "\n",
              "  <div class=\"colab-df-container\">\n",
              "    <button class=\"colab-df-convert\" onclick=\"convertToInteractive('df-32c4bbb3-d0da-427e-98df-a322ec253b14')\"\n",
              "            title=\"Convert this dataframe to an interactive table.\"\n",
              "            style=\"display:none;\">\n",
              "\n",
              "  <svg xmlns=\"http://www.w3.org/2000/svg\" height=\"24px\" viewBox=\"0 -960 960 960\">\n",
              "    <path d=\"M120-120v-720h720v720H120Zm60-500h600v-160H180v160Zm220 220h160v-160H400v160Zm0 220h160v-160H400v160ZM180-400h160v-160H180v160Zm440 0h160v-160H620v160ZM180-180h160v-160H180v160Zm440 0h160v-160H620v160Z\"/>\n",
              "  </svg>\n",
              "    </button>\n",
              "\n",
              "  <style>\n",
              "    .colab-df-container {\n",
              "      display:flex;\n",
              "      gap: 12px;\n",
              "    }\n",
              "\n",
              "    .colab-df-convert {\n",
              "      background-color: #E8F0FE;\n",
              "      border: none;\n",
              "      border-radius: 50%;\n",
              "      cursor: pointer;\n",
              "      display: none;\n",
              "      fill: #1967D2;\n",
              "      height: 32px;\n",
              "      padding: 0 0 0 0;\n",
              "      width: 32px;\n",
              "    }\n",
              "\n",
              "    .colab-df-convert:hover {\n",
              "      background-color: #E2EBFA;\n",
              "      box-shadow: 0px 1px 2px rgba(60, 64, 67, 0.3), 0px 1px 3px 1px rgba(60, 64, 67, 0.15);\n",
              "      fill: #174EA6;\n",
              "    }\n",
              "\n",
              "    .colab-df-buttons div {\n",
              "      margin-bottom: 4px;\n",
              "    }\n",
              "\n",
              "    [theme=dark] .colab-df-convert {\n",
              "      background-color: #3B4455;\n",
              "      fill: #D2E3FC;\n",
              "    }\n",
              "\n",
              "    [theme=dark] .colab-df-convert:hover {\n",
              "      background-color: #434B5C;\n",
              "      box-shadow: 0px 1px 3px 1px rgba(0, 0, 0, 0.15);\n",
              "      filter: drop-shadow(0px 1px 2px rgba(0, 0, 0, 0.3));\n",
              "      fill: #FFFFFF;\n",
              "    }\n",
              "  </style>\n",
              "\n",
              "    <script>\n",
              "      const buttonEl =\n",
              "        document.querySelector('#df-32c4bbb3-d0da-427e-98df-a322ec253b14 button.colab-df-convert');\n",
              "      buttonEl.style.display =\n",
              "        google.colab.kernel.accessAllowed ? 'block' : 'none';\n",
              "\n",
              "      async function convertToInteractive(key) {\n",
              "        const element = document.querySelector('#df-32c4bbb3-d0da-427e-98df-a322ec253b14');\n",
              "        const dataTable =\n",
              "          await google.colab.kernel.invokeFunction('convertToInteractive',\n",
              "                                                    [key], {});\n",
              "        if (!dataTable) return;\n",
              "\n",
              "        const docLinkHtml = 'Like what you see? Visit the ' +\n",
              "          '<a target=\"_blank\" href=https://colab.research.google.com/notebooks/data_table.ipynb>data table notebook</a>'\n",
              "          + ' to learn more about interactive tables.';\n",
              "        element.innerHTML = '';\n",
              "        dataTable['output_type'] = 'display_data';\n",
              "        await google.colab.output.renderOutput(dataTable, element);\n",
              "        const docLink = document.createElement('div');\n",
              "        docLink.innerHTML = docLinkHtml;\n",
              "        element.appendChild(docLink);\n",
              "      }\n",
              "    </script>\n",
              "  </div>\n",
              "\n",
              "\n",
              "<div id=\"df-0de7c2a0-e2ba-4056-87d5-69584d8752fc\">\n",
              "  <button class=\"colab-df-quickchart\" onclick=\"quickchart('df-0de7c2a0-e2ba-4056-87d5-69584d8752fc')\"\n",
              "            title=\"Suggest charts\"\n",
              "            style=\"display:none;\">\n",
              "\n",
              "<svg xmlns=\"http://www.w3.org/2000/svg\" height=\"24px\"viewBox=\"0 0 24 24\"\n",
              "     width=\"24px\">\n",
              "    <g>\n",
              "        <path d=\"M19 3H5c-1.1 0-2 .9-2 2v14c0 1.1.9 2 2 2h14c1.1 0 2-.9 2-2V5c0-1.1-.9-2-2-2zM9 17H7v-7h2v7zm4 0h-2V7h2v10zm4 0h-2v-4h2v4z\"/>\n",
              "    </g>\n",
              "</svg>\n",
              "  </button>\n",
              "\n",
              "<style>\n",
              "  .colab-df-quickchart {\n",
              "      --bg-color: #E8F0FE;\n",
              "      --fill-color: #1967D2;\n",
              "      --hover-bg-color: #E2EBFA;\n",
              "      --hover-fill-color: #174EA6;\n",
              "      --disabled-fill-color: #AAA;\n",
              "      --disabled-bg-color: #DDD;\n",
              "  }\n",
              "\n",
              "  [theme=dark] .colab-df-quickchart {\n",
              "      --bg-color: #3B4455;\n",
              "      --fill-color: #D2E3FC;\n",
              "      --hover-bg-color: #434B5C;\n",
              "      --hover-fill-color: #FFFFFF;\n",
              "      --disabled-bg-color: #3B4455;\n",
              "      --disabled-fill-color: #666;\n",
              "  }\n",
              "\n",
              "  .colab-df-quickchart {\n",
              "    background-color: var(--bg-color);\n",
              "    border: none;\n",
              "    border-radius: 50%;\n",
              "    cursor: pointer;\n",
              "    display: none;\n",
              "    fill: var(--fill-color);\n",
              "    height: 32px;\n",
              "    padding: 0;\n",
              "    width: 32px;\n",
              "  }\n",
              "\n",
              "  .colab-df-quickchart:hover {\n",
              "    background-color: var(--hover-bg-color);\n",
              "    box-shadow: 0 1px 2px rgba(60, 64, 67, 0.3), 0 1px 3px 1px rgba(60, 64, 67, 0.15);\n",
              "    fill: var(--button-hover-fill-color);\n",
              "  }\n",
              "\n",
              "  .colab-df-quickchart-complete:disabled,\n",
              "  .colab-df-quickchart-complete:disabled:hover {\n",
              "    background-color: var(--disabled-bg-color);\n",
              "    fill: var(--disabled-fill-color);\n",
              "    box-shadow: none;\n",
              "  }\n",
              "\n",
              "  .colab-df-spinner {\n",
              "    border: 2px solid var(--fill-color);\n",
              "    border-color: transparent;\n",
              "    border-bottom-color: var(--fill-color);\n",
              "    animation:\n",
              "      spin 1s steps(1) infinite;\n",
              "  }\n",
              "\n",
              "  @keyframes spin {\n",
              "    0% {\n",
              "      border-color: transparent;\n",
              "      border-bottom-color: var(--fill-color);\n",
              "      border-left-color: var(--fill-color);\n",
              "    }\n",
              "    20% {\n",
              "      border-color: transparent;\n",
              "      border-left-color: var(--fill-color);\n",
              "      border-top-color: var(--fill-color);\n",
              "    }\n",
              "    30% {\n",
              "      border-color: transparent;\n",
              "      border-left-color: var(--fill-color);\n",
              "      border-top-color: var(--fill-color);\n",
              "      border-right-color: var(--fill-color);\n",
              "    }\n",
              "    40% {\n",
              "      border-color: transparent;\n",
              "      border-right-color: var(--fill-color);\n",
              "      border-top-color: var(--fill-color);\n",
              "    }\n",
              "    60% {\n",
              "      border-color: transparent;\n",
              "      border-right-color: var(--fill-color);\n",
              "    }\n",
              "    80% {\n",
              "      border-color: transparent;\n",
              "      border-right-color: var(--fill-color);\n",
              "      border-bottom-color: var(--fill-color);\n",
              "    }\n",
              "    90% {\n",
              "      border-color: transparent;\n",
              "      border-bottom-color: var(--fill-color);\n",
              "    }\n",
              "  }\n",
              "</style>\n",
              "\n",
              "  <script>\n",
              "    async function quickchart(key) {\n",
              "      const quickchartButtonEl =\n",
              "        document.querySelector('#' + key + ' button');\n",
              "      quickchartButtonEl.disabled = true;  // To prevent multiple clicks.\n",
              "      quickchartButtonEl.classList.add('colab-df-spinner');\n",
              "      try {\n",
              "        const charts = await google.colab.kernel.invokeFunction(\n",
              "            'suggestCharts', [key], {});\n",
              "      } catch (error) {\n",
              "        console.error('Error during call to suggestCharts:', error);\n",
              "      }\n",
              "      quickchartButtonEl.classList.remove('colab-df-spinner');\n",
              "      quickchartButtonEl.classList.add('colab-df-quickchart-complete');\n",
              "    }\n",
              "    (() => {\n",
              "      let quickchartButtonEl =\n",
              "        document.querySelector('#df-0de7c2a0-e2ba-4056-87d5-69584d8752fc button');\n",
              "      quickchartButtonEl.style.display =\n",
              "        google.colab.kernel.accessAllowed ? 'block' : 'none';\n",
              "    })();\n",
              "  </script>\n",
              "</div>\n",
              "\n",
              "    </div>\n",
              "  </div>\n"
            ],
            "application/vnd.google.colaboratory.intrinsic+json": {
              "type": "dataframe",
              "variable_name": "course"
            }
          },
          "metadata": {},
          "execution_count": 6
        }
      ]
    },
    {
      "cell_type": "code",
      "source": [
        "course_filter_lang = course[course['language'].isin({'English', 'Indonesian'})]\n",
        "course_filter_lang.shape"
      ],
      "metadata": {
        "colab": {
          "base_uri": "https://localhost:8080/"
        },
        "id": "duoV_KyTzExx",
        "outputId": "b6979b30-cc0f-469b-85da-1c963118e1bc"
      },
      "execution_count": null,
      "outputs": [
        {
          "output_type": "execute_result",
          "data": {
            "text/plain": [
              "(125501, 20)"
            ]
          },
          "metadata": {},
          "execution_count": 7
        }
      ]
    },
    {
      "cell_type": "code",
      "source": [
        "course_filter_lang.info()"
      ],
      "metadata": {
        "colab": {
          "base_uri": "https://localhost:8080/"
        },
        "id": "FVhx0BUPyXdZ",
        "outputId": "522a5235-74d6-4db4-a63c-93fcdffb5447"
      },
      "execution_count": null,
      "outputs": [
        {
          "output_type": "stream",
          "name": "stdout",
          "text": [
            "<class 'pandas.core.frame.DataFrame'>\n",
            "Index: 125501 entries, 0 to 209733\n",
            "Data columns (total 20 columns):\n",
            " #   Column              Non-Null Count   Dtype  \n",
            "---  ------              --------------   -----  \n",
            " 0   id                  125501 non-null  float64\n",
            " 1   title               125501 non-null  object \n",
            " 2   is_paid             125501 non-null  bool   \n",
            " 3   price               125501 non-null  float64\n",
            " 4   headline            125481 non-null  object \n",
            " 5   num_subscribers     125501 non-null  float64\n",
            " 6   avg_rating          125501 non-null  float64\n",
            " 7   num_reviews         125501 non-null  float64\n",
            " 8   num_comments        125501 non-null  float64\n",
            " 9   num_lectures        125501 non-null  float64\n",
            " 10  content_length_min  125501 non-null  float64\n",
            " 11  published_time      125501 non-null  object \n",
            " 12  last_update_date    125374 non-null  object \n",
            " 13  category            125501 non-null  object \n",
            " 14  subcategory         125501 non-null  object \n",
            " 15  topic               124938 non-null  object \n",
            " 16  language            125501 non-null  object \n",
            " 17  course_url          125501 non-null  object \n",
            " 18  instructor_name     125498 non-null  object \n",
            " 19  instructor_url      125101 non-null  object \n",
            "dtypes: bool(1), float64(8), object(11)\n",
            "memory usage: 19.3+ MB\n"
          ]
        }
      ]
    },
    {
      "cell_type": "code",
      "source": [
        "#check unique values for each column\n",
        "print(course_filter_lang.nunique().reset_index().set_axis(['Features', 'Unique Values'], axis=1).to_markdown(tablefmt='outline'))"
      ],
      "metadata": {
        "colab": {
          "base_uri": "https://localhost:8080/"
        },
        "id": "KGlA7YoWyZHE",
        "outputId": "72e91429-6b7e-4ae9-996c-e0884e3c6da5"
      },
      "execution_count": null,
      "outputs": [
        {
          "output_type": "stream",
          "name": "stdout",
          "text": [
            "+----+--------------------+-----------------+\n",
            "|    | Features           |   Unique Values |\n",
            "+====+====================+=================+\n",
            "|  0 | id                 |          125501 |\n",
            "|  1 | title              |          124497 |\n",
            "|  2 | is_paid            |               2 |\n",
            "|  3 | price              |             161 |\n",
            "|  4 | headline           |          121424 |\n",
            "|  5 | num_subscribers    |           18370 |\n",
            "|  6 | avg_rating         |            5573 |\n",
            "|  7 | num_reviews        |            4321 |\n",
            "|  8 | num_comments       |            1734 |\n",
            "|  9 | num_lectures       |             643 |\n",
            "| 10 | content_length_min |            2763 |\n",
            "| 11 | published_time     |          125433 |\n",
            "| 12 | last_update_date   |            3511 |\n",
            "| 13 | category           |              13 |\n",
            "| 14 | subcategory        |             130 |\n",
            "| 15 | topic              |            3743 |\n",
            "| 16 | language           |               2 |\n",
            "| 17 | course_url         |          125501 |\n",
            "| 18 | instructor_name    |           42548 |\n",
            "| 19 | instructor_url     |           42975 |\n",
            "+----+--------------------+-----------------+\n"
          ]
        }
      ]
    },
    {
      "cell_type": "code",
      "source": [
        "#check duplicates\n",
        "def duplicate_check(data):\n",
        "  print(\"\\n📌 Checking for Duplicate Values\")\n",
        "  print(\"-\" * 45)\n",
        "\n",
        "  duplicated_rows = data.duplicated().sum()\n",
        "  if data.duplicated().any():\n",
        "    print(\"\\n⚠️ Duplicate values found! Cleaning up...\")\n",
        "    print(\"🔄 Removing duplicates...\")\n",
        "    data = data.drop_duplicates()\n",
        "    print(f\"✅ Done! {duplicated_rows} duplicates have been removed.\\n\")\n",
        "  else:\n",
        "    print(\"\\n✅ No duplicate values found. Data is clean!\\n\")\n",
        "\n",
        "  print(\"-\" * 45)\n",
        "\n",
        "  return data\n",
        "\n",
        "course_no_duplicate = duplicate_check(course_filter_lang)"
      ],
      "metadata": {
        "colab": {
          "base_uri": "https://localhost:8080/"
        },
        "id": "LLNKOHDjyZX8",
        "outputId": "3ab076c6-a81a-4e97-cfed-ee1ce2b3e799"
      },
      "execution_count": null,
      "outputs": [
        {
          "output_type": "stream",
          "name": "stdout",
          "text": [
            "\n",
            "📌 Checking for Duplicate Values\n",
            "---------------------------------------------\n",
            "\n",
            "✅ No duplicate values found. Data is clean!\n",
            "\n",
            "---------------------------------------------\n"
          ]
        }
      ]
    },
    {
      "cell_type": "code",
      "source": [
        "#check missing values\n",
        "def missing_values_check(data):\n",
        "  print(\"\\n📌 Checking for Missing Values\")\n",
        "  print(\"🔄 Showing missing values...\\n\")\n",
        "\n",
        "  percentage = (data.isnull().sum() / data.shape[0]) * 100\n",
        "  missing_values = pd.DataFrame({\n",
        "      'Features': data.columns,\n",
        "      'Missing Values': data.isnull().sum(),\n",
        "      'Percentage': [f'{round(value,2)}%' for value in percentage]\n",
        "      })\n",
        "  missing_values.reset_index(drop=True, inplace=True)\n",
        "\n",
        "  print(missing_values.to_markdown(tablefmt='pipe', index=False))\n",
        "\n",
        "missing_values_check(course_no_duplicate)"
      ],
      "metadata": {
        "colab": {
          "base_uri": "https://localhost:8080/"
        },
        "id": "M1_GtB5V0Ezl",
        "outputId": "4ef4c671-0c2b-4843-a72e-ec59040eb8e0"
      },
      "execution_count": null,
      "outputs": [
        {
          "output_type": "stream",
          "name": "stdout",
          "text": [
            "\n",
            "📌 Checking for Missing Values\n",
            "🔄 Showing missing values...\n",
            "\n",
            "| Features           |   Missing Values | Percentage   |\n",
            "|:-------------------|-----------------:|:-------------|\n",
            "| id                 |                0 | 0.0%         |\n",
            "| title              |                0 | 0.0%         |\n",
            "| is_paid            |                0 | 0.0%         |\n",
            "| price              |                0 | 0.0%         |\n",
            "| headline           |               20 | 0.02%        |\n",
            "| num_subscribers    |                0 | 0.0%         |\n",
            "| avg_rating         |                0 | 0.0%         |\n",
            "| num_reviews        |                0 | 0.0%         |\n",
            "| num_comments       |                0 | 0.0%         |\n",
            "| num_lectures       |                0 | 0.0%         |\n",
            "| content_length_min |                0 | 0.0%         |\n",
            "| published_time     |                0 | 0.0%         |\n",
            "| last_update_date   |              127 | 0.1%         |\n",
            "| category           |                0 | 0.0%         |\n",
            "| subcategory        |                0 | 0.0%         |\n",
            "| topic              |              563 | 0.45%        |\n",
            "| language           |                0 | 0.0%         |\n",
            "| course_url         |                0 | 0.0%         |\n",
            "| instructor_name    |                3 | 0.0%         |\n",
            "| instructor_url     |              400 | 0.32%        |\n"
          ]
        }
      ]
    },
    {
      "cell_type": "code",
      "source": [
        "#keep it blank for later"
      ],
      "metadata": {
        "id": "cWQ2q9ZI2iJK"
      },
      "execution_count": null,
      "outputs": []
    },
    {
      "cell_type": "code",
      "source": [
        "#check language distribution\n",
        "def language_distribution(data, lang):\n",
        "  plt.figure(figsize=(5,5))\n",
        "  graph = sns.countplot(x=lang, data=data, width=0.8, palette='pastel')\n",
        "\n",
        "  for bar in graph.patches:\n",
        "      count = int(bar.get_height())\n",
        "      percentage = (count / len(data)) * 100\n",
        "      label = f\"{count}\\n{percentage:.1f}%\"\n",
        "      graph.annotate(label,\n",
        "                      (bar.get_x() + bar.get_width() / 2, bar.get_height()),\n",
        "                      ha='center', va='bottom', fontsize=9)\n",
        "\n",
        "  plt.title('Language Distribution')\n",
        "  plt.xlabel('Language')\n",
        "  plt.ylabel('Count')\n",
        "  plt.ylim(0, max(data[lang].value_counts()) + 20000)\n",
        "\n",
        "  plt.tight_layout()\n",
        "  plt.show()\n",
        "\n",
        "language_distribution(course_no_duplicate, 'language')"
      ],
      "metadata": {
        "colab": {
          "base_uri": "https://localhost:8080/",
          "height": 594
        },
        "id": "TCHZ_MnE2oI6",
        "outputId": "8d42c73b-ec3d-4df0-b20b-deae76fc1433"
      },
      "execution_count": null,
      "outputs": [
        {
          "output_type": "stream",
          "name": "stderr",
          "text": [
            "<ipython-input-20-8dd3509488be>:4: FutureWarning: \n",
            "\n",
            "Passing `palette` without assigning `hue` is deprecated and will be removed in v0.14.0. Assign the `x` variable to `hue` and set `legend=False` for the same effect.\n",
            "\n",
            "  graph = sns.countplot(x=lang, data=data, width=0.8, palette='pastel')\n"
          ]
        },
        {
          "output_type": "display_data",
          "data": {
            "text/plain": [
              "<Figure size 500x500 with 1 Axes>"
            ],
            "image/png": "[encoded data removed]"
          },
          "metadata": {}
        }
      ]
    },
    {
      "cell_type": "code",
      "source": [
        " #define categorical and numerical attributes\n",
        " def attributes(data):\n",
        "  categorical = []\n",
        "  print(f\"Categorical Attributes:\")\n",
        "  for i, cat in enumerate(data.select_dtypes(include = ['object', 'bool']).columns.values):\n",
        "    categorical.append(cat)\n",
        "    print(f\"{i+1}. {cat}\")\n",
        "\n",
        "  numerical = []\n",
        "  print(f\"\\nNumerical Attributes:\")\n",
        "  for i, num in enumerate(data.select_dtypes(include = 'number').drop(columns='id').columns.values):\n",
        "    numerical.append(num)\n",
        "    print(f\"{i+1}. {num}\")\n",
        "\n",
        "  return categorical, numerical\n",
        "\n",
        "categorical, numerical = attributes(course_no_duplicate)"
      ],
      "metadata": {
        "colab": {
          "base_uri": "https://localhost:8080/"
        },
        "id": "yz8h3n1v58kq",
        "outputId": "eb6444e7-ea32-467c-f56b-99ef4738c678"
      },
      "execution_count": null,
      "outputs": [
        {
          "output_type": "stream",
          "name": "stdout",
          "text": [
            "Categorical Attributes:\n",
            "1. title\n",
            "2. is_paid\n",
            "3. headline\n",
            "4. published_time\n",
            "5. last_update_date\n",
            "6. category\n",
            "7. subcategory\n",
            "8. topic\n",
            "9. language\n",
            "10. course_url\n",
            "11. instructor_name\n",
            "12. instructor_url\n",
            "\n",
            "Numerical Attributes:\n",
            "1. price\n",
            "2. num_subscribers\n",
            "3. avg_rating\n",
            "4. num_reviews\n",
            "5. num_comments\n",
            "6. num_lectures\n",
            "7. content_length_min\n"
          ]
        }
      ]
    },
    {
      "cell_type": "code",
      "source": [
        "#check distribution with boxplot\n",
        "def numerical_boxplot(data, numeric):\n",
        "  for i in numeric:\n",
        "    plt.figure(figsize=(5,5))\n",
        "    plt.boxplot(data[i])\n",
        "    plt.xticks([1], [i])\n",
        "    plt.title(f'Distribution of \\'{i}\\'')\n",
        "\n",
        "    plt.tight_layout()\n",
        "    plt.show()\n",
        "\n",
        "numerical_boxplot(course_no_duplicate, numerical)"
      ],
      "metadata": {
        "id": "Oiphc-Hw7eX6"
      },
      "execution_count": null,
      "outputs": []
    },
    {
      "cell_type": "code",
      "source": [
        "#check distribution with histogram\n",
        "def numerical_histogram(data, numeric):\n",
        "  for i in numeric:\n",
        "    plt.figure(figsize=(6,5))\n",
        "    sns.histplot(data[i], kde=True, bins=30)\n",
        "    plt.title(f'Distribution of \\'{i}\\'')\n",
        "\n",
        "    plt.tight_layout()\n",
        "    plt.show()\n",
        "\n",
        "numerical_histogram(course_no_duplicate, numerical)"
      ],
      "metadata": {
        "id": "ekVVKQ3E_2_9"
      },
      "execution_count": null,
      "outputs": []
    },
    {
      "cell_type": "code",
      "source": [
        "def basic_statistics(data, features):\n",
        "    table = data[features].describe().T\n",
        "    table['IQR'] = table['75%'] - table['25%']\n",
        "    table['upper bound'] = table['75%'] + 1.5 * table['IQR']\n",
        "    table['lower bound'] = table['25%'] - 1.5 * table['IQR']\n",
        "\n",
        "    table = table.round(2)\n",
        "\n",
        "    return table"
      ],
      "metadata": {
        "id": "IzDBJX4Mjq32"
      },
      "execution_count": null,
      "outputs": []
    },
    {
      "cell_type": "code",
      "source": [
        "def comparison(data, feature):\n",
        "  scaler = StandardScaler()\n",
        "  scaled_data = scaler.fit_transform(data[feature])\n",
        "  scaled_data = pd.DataFrame(data=scaled_data, columns=feature)\n",
        "\n",
        "  statistic_1 = basic_statistics(scaled_data, feature)\n",
        "  statistic_2 = basic_statistics(data[feature], feature)\n",
        "\n",
        "  print(f\"Original Data\\n{statistic_2.to_markdown(tablefmt='outline')}\\n\")\n",
        "  print(f\"Scaled Data\\n{statistic_1.to_markdown(tablefmt='outline')}\\n\")\n",
        "\n",
        "  plt.figure(figsize=(8,6))\n",
        "  plt.boxplot(scaled_data)\n",
        "  plt.title(\"Scaled Data Distribution\")\n",
        "  plt.xticks(range(1, len(feature) + 1), feature, rotation=90)\n",
        "\n",
        "  plt.tight_layout()\n",
        "  plt.show()\n",
        "\n",
        "comparison(course_no_duplicate, numerical)"
      ],
      "metadata": {
        "colab": {
          "base_uri": "https://localhost:8080/",
          "height": 1000
        },
        "id": "5S4Cpx7qne_D",
        "outputId": "ed0d718f-6dc8-4175-888b-e101b0715e2f"
      },
      "execution_count": null,
      "outputs": [
        {
          "output_type": "stream",
          "name": "stdout",
          "text": [
            "Original Data\n",
            "+--------------------+---------+---------+----------+-------+-------+--------+---------+------------------+---------+---------------+---------------+\n",
            "|                    |   count |    mean |      std |   min |   25% |    50% |     75% |              max |     IQR |   upper bound |   lower bound |\n",
            "+====================+=========+=========+==========+=======+=======+========+=========+==================+=========+===============+===============+\n",
            "| price              |  125501 |   72.24 |   102.09 |     0 | 19.99 |  29.99 |   99.99 |    999           |   80    |        219.99 |       -100.01 |\n",
            "| num_subscribers    |  125501 | 4230.43 | 19318.6  |     0 | 34    | 357    | 2254    |      1.75236e+06 | 2220    |       5584    |      -3296    |\n",
            "| avg_rating         |  125501 |    3.72 |     1.51 |     0 |  3.75 |   4.29 |    4.59 |      5           |    0.84 |          5.84 |          2.49 |\n",
            "| num_reviews        |  125501 |  308.51 |  3080.75 |     0 |  4    |  19    |   82    | 436457           |   78    |        199    |       -113    |\n",
            "| num_comments       |  125501 |   54.16 |   433.73 |     0 |  1    |   5    |   21    |  39040           |   20    |         51    |        -29    |\n",
            "| num_lectures       |  125501 |   35.31 |    51.63 |     0 | 11    |  21    |   40    |   1095           |   29    |         83.5  |        -32.5  |\n",
            "| content_length_min |  125501 |  237.28 |   427.96 |     0 | 61    | 119    |  254    |  22570           |  193    |        543.5  |       -228.5  |\n",
            "+--------------------+---------+---------+----------+-------+-------+--------+---------+------------------+---------+---------------+---------------+\n",
            "\n",
            "Scaled Data\n",
            "+--------------------+---------+--------+-------+-------+-------+-------+-------+--------+-------+---------------+---------------+\n",
            "|                    |   count |   mean |   std |   min |   25% |   50% |   75% |    max |   IQR |   upper bound |   lower bound |\n",
            "+====================+=========+========+=======+=======+=======+=======+=======+========+=======+===============+===============+\n",
            "| price              |  125501 |     -0 |     1 | -0.71 | -0.51 | -0.41 |  0.27 |   9.08 |  0.78 |          1.45 |         -1.69 |\n",
            "| num_subscribers    |  125501 |     -0 |     1 | -0.22 | -0.22 | -0.2  | -0.1  |  90.49 |  0.11 |          0.07 |         -0.39 |\n",
            "| avg_rating         |  125501 |     -0 |     1 | -2.47 |  0.02 |  0.38 |  0.57 |   0.85 |  0.56 |          1.41 |         -0.82 |\n",
            "| num_reviews        |  125501 |     -0 |     1 | -0.1  | -0.1  | -0.09 | -0.07 | 141.57 |  0.03 |         -0.04 |         -0.14 |\n",
            "| num_comments       |  125501 |     -0 |     1 | -0.12 | -0.12 | -0.11 | -0.08 |  89.88 |  0.05 |         -0.01 |         -0.19 |\n",
            "| num_lectures       |  125501 |     -0 |     1 | -0.68 | -0.47 | -0.28 |  0.09 |  20.52 |  0.56 |          0.93 |         -1.31 |\n",
            "| content_length_min |  125501 |     -0 |     1 | -0.55 | -0.41 | -0.28 |  0.04 |  52.18 |  0.45 |          0.72 |         -1.09 |\n",
            "+--------------------+---------+--------+-------+-------+-------+-------+-------+--------+-------+---------------+---------------+\n",
            "\n"
          ]
        },
        {
          "output_type": "display_data",
          "data": {
            "text/plain": [
              "<Figure size 800x600 with 1 Axes>"
            ],
            "image/png": "[encoded data removed]"
          },
          "metadata": {}
        }
      ]
    }
  ]
}